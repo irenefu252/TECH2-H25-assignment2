{
 "cells": [
  {
   "cell_type": "markdown",
   "id": "5b24ab0a",
   "metadata": {},
   "source": [
    "# TECH2 Mandatory assignment 2\n",
    "\n",
    "## About the mandatory assignment\n",
    "\n",
    "-   The assignment must be completed individually.\n",
    "-   You are allowed to use all online resources for help, including generative AI. You must include a statement on how you used AI to solve the tasks.\n",
    "-   After the assignment deadline, you must perform a peer review of two other students' assignment on Canvas. You're not allowed to use AI to write the peer-review for you.\n",
    "-   Deadline for the assignment: Friday, October 17, 16:00.\n",
    "-   Deadline for the peer review: Friday, October 24, 16:00."
   ]
  },
  {
   "cell_type": "code",
   "execution_count": null,
   "id": "007b6fde",
   "metadata": {
    "vscode": {
     "languageId": "plaintext"
    }
   },
   "outputs": [],
   "source": []
  },
  {
   "cell_type": "markdown",
   "id": "969a9208",
   "metadata": {},
   "source": [
    "\n",
    "## Requirements\n",
    "\n",
    "-   Your solution needs to be uploaded to GitHub. You should fork the assignment repository at\n",
    "    [https://github.com/richardfoltyn/TECH2-H25-assignment2](https://github.com/richardfoltyn/TECH2-H25-assignment2)\n",
    "    and add your solution to this notebook.\n",
    "-   All commits in your repository must be *prior* to the deadline. \n",
    "-   You need to make sure that your GitHub repository is publicly accessible. This can be changed in the GitHub repository setttings, if required.\n",
    "-   You need to submit the URL to the your GitHub repository on Canvas.\n",
    "-   Make sure your notebook runs without errors (`Restart` and `Run all`). \n",
    "-   Your notebook *must* run with the TECH2 environment we've been using in part 2. You can create this environment from the \n",
    "    `environment.yml` file in this repository if you haven't done so earlier.\n"
   ]
  },
  {
   "cell_type": "markdown",
   "id": "2e89eaca",
   "metadata": {},
   "source": [
    "## Tasks\n",
    "\n",
    "In this assignment, you are asked to analyze a 10% sub-sample of the Survey of Consumer Finances (SCF), a survey of household portfolios that is representative of the US population. The survey was administered every 3 years from 1989 to 2022. The appendix in this document contains a description of the variables present in this data set (this is a subset; the original SCF contains many more variables).\n",
    "\n",
    "1.  Data preprocessing\n",
    "\n",
    "    1.  Read the CSV file `SCF_10pct.csv` stored in this repository.\n",
    "    2.  Keep only observations where the household head is aged between 25 and 89. \n",
    "    3.  Create the column `'college'`, which contains an indicator variable that is 1 when the household head has at least some college (column `'educ'` is 3 or 4), and 0 otherwise.\n",
    "    4.  Divide the values in the column `'networth'` by 1,000 so that they are reported in thousands of US dollars.\n",
    "    5.  Report the number of observations in the final sample.\n",
    "\n",
    "2.  In this part, you're asked to analyze how net worth (total gross assets minus total debt) varies across the four education levels (no high school, high school, some college, 4-year college or more):\n",
    "\n",
    "    1.  Compute the average net worth (in thousands of US dollars) by education (use a loop).\n",
    "    2.  Create a bar chart that plots the average net worth by education.\n",
    "\n",
    "3.  In this part, you're asked to analyze how net worth has changed over the last 3 decades:\n",
    "\n",
    "    1.  Compute the average net worth (in thousands of US dollars) by survey year (use a loop).\n",
    "    2.  Create a line plot that shows the evolution of average net worth over the years 1989 to 2022.\n",
    "\n",
    "4.  Finally, combine the analyses from the previous parts to see how net worth evolved over the years for those with and without college.\n",
    "\n",
    "    1.  Compute the average net worth (in thousands of US dollars) by survey year, separately for non-college (`college=0`) and the college-educated (`college=1`).\n",
    "    2.  Create a line plot that shows the evolution of net worth over the years 1989 to 2022 by college status, i.e., your figure should contain two lines, one for college and one for non-college.\n",
    "\n",
    "Remember to add axis labels, titles, and legends (where applicable) to all your figures.\n"
   ]
  },
  {
   "cell_type": "markdown",
   "id": "05716c15",
   "metadata": {},
   "source": [
    "## Hints\n",
    "\n",
    "-   The assignment can be solved using the concepts we covered up to and including lecture/workshop 3 on Friday, October 10. \n",
    "-   In particular, you don't need `groupby()` which we'll cover later in the course, but you can instead loop over education levels or years, as needed."
   ]
  },
  {
   "cell_type": "markdown",
   "id": "b7c832de",
   "metadata": {},
   "source": [
    "***\n",
    "**WRITE YOUR SOLUTION TO PARTS 1-4 HERE**\n"
   ]
  },
  {
   "cell_type": "code",
   "execution_count": null,
   "id": "95f6c835",
   "metadata": {
    "vscode": {
     "languageId": "plaintext"
    }
   },
   "outputs": [],
   "source": [
    "#TASK 1: DATA PROCESSING\n",
    "\n",
    "import pandas as pd\n",
    "import matplotlib.pyplot as plt\n",
    "\n",
    "#Step 1: Data preprocessing \n",
    "# 1. Read CSV\n",
    "df = pd.read_csv('SCF_10pct.csv')\n",
    "\n",
    "# 2. Ages between 25-89\n",
    "df = df[(df['age'] >= 25) & (df['age'] <= 89)]\n",
    "\n",
    "# 3. Creating 'college' column (1 if educ = 3 or 4, else 0)\n",
    "df['college'] = df['educ'].apply(lambda x: 1 if x in [3, 4] else 0)\n",
    "\n",
    "# 4. Divide the networth by 1000 (thousands USD)\n",
    "df['networth'] = df['networth'] / 1000\n",
    "\n",
    "# 5. Print the number of observations\n",
    "print(\"Number of observations in final sample:\", len(df))\n",
    "\n",
    "# Question 2: Average net worth by education \n",
    "education_labels = {\n",
    "    1: 'No high school',\n",
    "    2: 'High school',\n",
    "    3: 'Some college',\n",
    "    4: '4-year college or more'\n",
    "}\n",
    "# Compute average net worth by education using pandas\n",
    "avg_networth = df.groupby('educ')['networth'].mean()\n",
    "\n",
    "# Print results\n",
    "print(\"\\nAverage Net Worth by Education (thousands USD):\")\n",
    "for educ, avg in avg_networth.items():\n",
    "    print(f\"{education_labels[educ]}: {avg:.2f}\")\n",
    "\n",
    "# Bar chart (question 2)\n",
    "plt.figure(figsize=(8,5))\n",
    "plt.bar([education_labels[i] for i in avg_networth.index], avg_networth.values, color='skyblue', edgecolor='black')\n",
    "plt.xlabel('Education Level')\n",
    "plt.ylabel('Average Net Worth (thousands USD)')\n",
    "plt.title('Average Net Worth by Education Level')\n",
    "plt.xticks(rotation=15)\n",
    "plt.tight_layout()\n",
    "plt.show()\n",
    "\n",
    "#Question 3: Average net worth by survey year \n",
    "# Using a loop\n",
    "years = sorted(df['year'].unique())\n",
    "avg_networth_by_year = {}\n",
    "\n",
    "for y in years:\n",
    "    avg_networth_by_year[y] = df[df['year'] == y]['networth'].mean()\n",
    "\n",
    "# Print results\n",
    "print(\"Average net worth by survey year (thousands USD):\")\n",
    "for y, avg in avg_networth_by_year.items():\n",
    "    print(f\"{y}: {avg:.2f}\")\n",
    "\n",
    "#  Line plot (question 3)\n",
    "plt.figure(figsize=(9,5))\n",
    "plt.plot(list(avg_networth_by_year.keys()), list(avg_networth_by_year.values()), marker='o')\n",
    "plt.xlabel('Survey Year')\n",
    "plt.ylabel('Average Net Worth (thousands USD)')\n",
    "plt.title('Evolution of Average Net Worth (1989 - 2022)')\n",
    "plt.grid(True)\n",
    "plt.tight_layout()\n",
    "plt.show()\n",
    "\n",
    "#Question 4: Compute average net worth by year and college status \n",
    "years = sorted(df['year'].unique())\n",
    "avg_non_college = []\n",
    "avg_college = []\n",
    "\n",
    "for y in years:\n",
    "    avg_non_college.append(df[(df['year'] == y) & (df['college'] == 0)]['networth'].mean())\n",
    "    avg_college.append(df[(df['year'] == y) & (df['college'] == 1)]['networth'].mean())\n",
    "\n",
    "\n",
    "#Line plot (question 4)\n",
    "plt.figure(figsize=(10,6))\n",
    "plt.plot(years, avg_non_college, marker='o', label='Non-college (college=0)')\n",
    "plt.plot(years, avg_college, marker='o', label='College (college=1)')\n",
    "plt.xlabel('Survey Year')\n",
    "plt.ylabel('Average Net Worth (thousands USD)')\n",
    "plt.title('Average Net Worth Over Time by College Status (1989 - 2022)')\n",
    "plt.legend()\n",
    "plt.grid(True)\n",
    "plt.tight_layout()\n",
    "plt.show()\n"
   ]
  },
  {
   "cell_type": "markdown",
   "id": "1f983064",
   "metadata": {},
   "source": [
    "***\n",
    "# Data description"
   ]
  },
  {
   "cell_type": "markdown",
   "id": "ee90f234",
   "metadata": {},
   "source": [
    "## Variables\n",
    "\n",
    "| Variable         | Description |\n",
    "|------------------|-------------|\n",
    "| id               | Identifier  |\n",
    "| year             | Survey year |\n",
    "| age             | Age of reference person (household head) |\n",
    "| educ            | Education of reference person (1 = no high school/GED, 2 = high school or GED, 3 = some college or Assoc. degree, 4 = Bachelors degree or higher)|\n",
    "| networth        | Net worth in US dollars |"
   ]
  },
  {
   "cell_type": "markdown",
   "id": "339882d9",
   "metadata": {},
   "source": [
    "## Reference\n",
    "\n",
    "- URL: https://www.federalreserve.gov/econres/scfindex.htm\n",
    "- DOI Identifier: https://doi.org/10.17016/8799\n",
    "- Creator: Board of Governors of the Federal Reserve Board\n",
    "- Name: 2022 Survey of Consumer Finances\n",
    "- Description:\n",
    "    The Survey of Consumer Finances (SCF) is normally a triennial cross-sectional survey of U.S. families. The survey data include information on families' balance sheets, pensions, income, and demographic characteristics.\n",
    "- Publisher: Board of Governors of the Federal Reserve System\n",
    "- Publication Year: 2023 "
   ]
  }
 ],
 "metadata": {
  "kernelspec": {
   "display_name": "TECH2",
   "language": "python",
   "name": "python3"
  },
  "language_info": {
   "codemirror_mode": {
    "name": "ipython",
    "version": 3
   },
   "file_extension": ".py",
   "mimetype": "text/x-python",
   "name": "python",
   "nbconvert_exporter": "python",
   "pygments_lexer": "ipython3",
   "version": "3.13.5"
  }
 },
 "nbformat": 4,
 "nbformat_minor": 5
}
